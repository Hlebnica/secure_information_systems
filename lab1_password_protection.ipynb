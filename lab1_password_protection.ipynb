{
 "cells": [
  {
   "cell_type": "markdown",
   "metadata": {
    "id": "oFeyB0SVWaTb"
   },
   "source": [
    "Старостенок Дмитрий Владимирович\n",
    "\n",
    "КЭ-303 \n",
    "\n",
    "Вариант 29\n"
   ]
  },
  {
   "cell_type": "markdown",
   "metadata": {
    "id": "Z8Dh1-qzb2z2"
   },
   "source": [
    "P = 10^4\n",
    "\n",
    "V = 15 паролей/мин\n",
    "\n",
    "T = 15 дней"
   ]
  },
  {
   "cell_type": "code",
   "execution_count": 1,
   "metadata": {
    "id": "TBrS6OS3gQXy"
   },
   "outputs": [],
   "source": [
    "import math\n",
    "import random"
   ]
  },
  {
   "cell_type": "code",
   "execution_count": 2,
   "metadata": {
    "id": "QDP7EuNoWYaa"
   },
   "outputs": [],
   "source": [
    "V = 15 * 60 * 24 * 7 # Количество паролей в неделю\n",
    "T = 15 / 7 # Количество недель максимального срока действия пароля\n",
    "P = 10 ** -4 # Скорость подбора пароля злоумышленником"
   ]
  },
  {
   "cell_type": "markdown",
   "metadata": {
    "id": "0vgHk5Rcg6AU"
   },
   "source": [
    "Вычислить по формуле (1) нижнюю границу S* для заданных P, V, T"
   ]
  },
  {
   "cell_type": "code",
   "execution_count": 3,
   "metadata": {
    "colab": {
     "base_uri": "https://localhost:8080/"
    },
    "id": "gDz7kx7af_WQ",
    "outputId": "8f8f3812-8ae8-4dca-abf2-ecb9303df3b6"
   },
   "outputs": [
    {
     "name": "stdout",
     "output_type": "stream",
     "text": [
      "Нижняя граница S* = 3240000000\n"
     ]
    }
   ],
   "source": [
    "S = (V * T) / P\n",
    "print(\"Нижняя граница S* =\", math.ceil(S))"
   ]
  },
  {
   "cell_type": "markdown",
   "metadata": {
    "id": "1tGuk5a0iQnD"
   },
   "source": [
    "Выбрать некоторый алфавит с мощностью A и получить\n",
    "минимальную длину пароля L, при котором выполняется условие (2)"
   ]
  },
  {
   "cell_type": "code",
   "execution_count": 4,
   "metadata": {
    "colab": {
     "base_uri": "https://localhost:8080/"
    },
    "id": "26-QXFTIiSUT",
    "outputId": "cd6ec081-a5f1-4af0-9d97-95cf3f246f9f"
   },
   "outputs": [
    {
     "name": "stdout",
     "output_type": "stream",
     "text": [
      "Минимальная длина пароля из малых и больших символов английского алфавита 6\n"
     ]
    }
   ],
   "source": [
    "englishAlphabet = 26 * 2 # Маленькие и большие буквы\n",
    "L = 0\n",
    "while S >= englishAlphabet ** L:\n",
    "  L = L+1\n",
    "print(\"Минимальная длина пароля из малых и больших символов английского алфавита\", L)"
   ]
  },
  {
   "cell_type": "markdown",
   "metadata": {
    "id": "bLcGTinjRO3x"
   },
   "source": [
    "Реализовать программу для генерации паролей пользователей.\n",
    "Программа должна формировать случайную последовательность символов\n",
    "длины L, при этом должен использоваться алфавит из A символов."
   ]
  },
  {
   "cell_type": "code",
   "execution_count": 5,
   "metadata": {
    "id": "lbp_uU_-ULIa"
   },
   "outputs": [],
   "source": [
    "def password_generator_1(length_l): # Генератор пароля (Входные данные: длина пароля)\n",
    "  chars = '+-/*!&$#?=@<>abcdefghijklnopqrstuvwxyzABCDEFGHIJKLMNOPQRSTUVWXYZ1234567890' # Набор символов для генерации пароля\n",
    "  password = ''\n",
    "  for i in range(length_l):\n",
    "      password += random.choice(chars) # случайный выбор символа из набора chars\n",
    "  return password"
   ]
  },
  {
   "cell_type": "code",
   "execution_count": 6,
   "metadata": {
    "id": "ZweqYWf8RngJ"
   },
   "outputs": [],
   "source": [
    "def password_generator_2(length_l, range_a): # Генератор пароля (Входные данные: длина пароля, длина аофавита)\n",
    "  range_amin = 65 # минимальная граница символов char\n",
    "  password = ''\n",
    "  for i in range(length_l):\n",
    "      char = random.randint(range_amin, range_amin + range_a) # генерация рандомного символа в диапазоне от range_amin до передаваемого в функцию range_a\n",
    "      password += chr(char)\n",
    "  return password"
   ]
  },
  {
   "cell_type": "code",
   "execution_count": 7,
   "metadata": {
    "colab": {
     "base_uri": "https://localhost:8080/"
    },
    "id": "d4lMPVTBUReR",
    "outputId": "65be755d-f190-4219-a435-a85074388c28"
   },
   "outputs": [
    {
     "name": "stdout",
     "output_type": "stream",
     "text": [
      "Пароль длиной 1 генератора 5:  3cRfB\n",
      "Пароль длиной 2 генератора 5:  EILFG\n"
     ]
    }
   ],
   "source": [
    "L = int(input(\"Введите длину пароля: \"))\n",
    "A = int(input(\"Введите длину алфавита: \"))\n",
    "\n",
    "print(f\"Пароль длиной 1 генератора {L}: \", password_generator_1(L))\n",
    "print(f\"Пароль длиной 2 генератора {L}: \", password_generator_2(L, A))"
   ]
  },
  {
   "cell_type": "markdown",
   "metadata": {
    "collapsed": false
   },
   "source": [
    "1. Чем определяется стойкость подсистемы идентификации и аутентификации?\n",
    "    Стойкость подсистемы идентификации и аутентификации определяется комплексом факторов, таких как длина и сложность пароля,\n",
    "    криптографические алгоритмы, используемые для защиты пароля, методы защиты от атак перебора паролей, а также физическая\n",
    "    защита оборудования, на котором хранятся данные и пароли.\n",
    "\n",
    "2. Перечислить минимальные требования к выбору пароля.\n",
    "    Длина пароля не менее 8 символов;\n",
    "    Использование различных типов символов (буквы верхнего и нижнего регистра, цифры, специальные символы);\n",
    "    Избегание использования личной информации, такой как дата рождения, имя, фамилия и т.п.;\n",
    "    Избегание повторения одного и того же пароля для разных аккаунтов.\n",
    "\n",
    "3. Перечислить минимальные требования к подсистеме парольной аутентификации.\n",
    "    Хранение пароля в зашифрованном виде;\n",
    "    Защиту от атак перебора паролей, например, с помощью блокировки учетной записи после нескольких неудачных попыток ввода пароля;\n",
    "    Наличие механизма обязательного изменения пароля через определенный период времени;\n",
    "    Возможность использования двухфакторной аутентификации для повышения безопасности.\n",
    "\n",
    "4. Как определить вероятность подбора пароля злоумышленником в течение срока его действия?\n",
    "    P = (V ∙ T) / S = (V ∙ T) / A^L\n",
    "\n",
    "5. Выбором каких параметров можно повлиять на уменьшение вероятности подбора пароля злоумышленником\n",
    "при заданной скорости подбора пароля злоумышленником и заданном сроке действия пароля?\n",
    "    Увеличение длины пароля;\n",
    "    Использование сложных паролей, включающих цифры, символы и различные регистры букв;\n",
    "    Ограничение времени действия пароля;\n",
    "    Блокировка учетной записи после нескольких неудачных попыток ввода пароля;\n",
    "    Использование двухфакторной аутентификации.\n"
   ]
  },
  {
   "cell_type": "code",
   "execution_count": null,
   "metadata": {
    "collapsed": false,
    "pycharm": {
     "is_executing": true
    }
   },
   "outputs": [],
   "source": [
    "\n"
   ]
  }
 ],
 "metadata": {
  "colab": {
   "provenance": []
  },
  "kernelspec": {
   "display_name": "Python 3",
   "language": "python",
   "name": "python3"
  },
  "language_info": {
   "codemirror_mode": {
    "name": "ipython",
    "version": 3
   },
   "file_extension": ".py",
   "mimetype": "text/x-python",
   "name": "python",
   "nbconvert_exporter": "python",
   "pygments_lexer": "ipython3",
   "version": "3.9.13"
  },
  "vscode": {
   "interpreter": {
    "hash": "6a50f7240a2038d609e57a1f7523e7acd01e636c6ac4354e2d92058f3fb497af"
   }
  }
 },
 "nbformat": 4,
 "nbformat_minor": 0
}
