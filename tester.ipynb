{
 "cells": [
  {
   "cell_type": "code",
   "execution_count": 2,
   "metadata": {
    "collapsed": true
   },
   "outputs": [],
   "source": [
    "import pandas as pd\n",
    "import numpy as np"
   ]
  },
  {
   "cell_type": "code",
   "execution_count": 3,
   "outputs": [],
   "source": [
    "S = [\"read\", \"write\", \"grant\"]  # Набор операций над объектами\n",
    "U = [\"User1\", \"User2\", \"User3\", \"User4\", \"User5\", \"User6\"]  # Множество субъектов\n",
    "O = [\"Object1\", \"Object2\", \"Object3\", \"Object4\", \"Object5\"]  # Множество объектов доступа"
   ],
   "metadata": {
    "collapsed": false
   }
  },
  {
   "cell_type": "code",
   "execution_count": 4,
   "outputs": [],
   "source": [
    "def get_random_rights(access_rights):\n",
    "    rights_ = np.random.choice(access_rights, size=np.random.choice(len(access_rights) + 1), replace=False)\n",
    "\n",
    "    if len(rights_) == 0 or len(rights_) == 1 and \"grant\" in rights_:\n",
    "        rights_ = [\"ban\"]\n",
    "    elif len(rights_) == len(access_rights):\n",
    "        rights_ = [\"full access\"]\n",
    "    return rights_"
   ],
   "metadata": {
    "collapsed": false
   }
  },
  {
   "cell_type": "code",
   "execution_count": 6,
   "outputs": [
    {
     "name": "stdout",
     "output_type": "stream",
     "text": [
      "             Object1        Object2         Object3         Object4  \\\n",
      "User1          [ban]  [read, grant]   [read, grant]           [ban]   \n",
      "User2  [read, grant]  [grant, read]   [full access]           [ban]   \n",
      "User3          [ban]        [write]           [ban]           [ban]   \n",
      "User4          [ban]          [ban]  [grant, write]           [ban]   \n",
      "User5  [full access]  [full access]   [full access]   [full access]   \n",
      "User6         [read]  [write, read]   [full access]  [grant, write]   \n",
      "\n",
      "              Object5  \n",
      "User1   [grant, read]  \n",
      "User2   [read, grant]  \n",
      "User3         [write]  \n",
      "User4           [ban]  \n",
      "User5   [full access]  \n",
      "User6  [grant, write]  \n"
     ]
    }
   ],
   "source": [
    "access_matrix = pd.DataFrame(columns=[f\"Object{n + 1}\" for n in range(len(O))], index=U[:len(U)])\n",
    "access_matrix = access_matrix.applymap(lambda x: get_random_rights(S))\n",
    "\n",
    "access_matrix.iloc[[np.random.randint(len(access_matrix.index))]] = [[['full access']]]\n",
    "print(access_matrix)"
   ],
   "metadata": {
    "collapsed": false
   }
  },
  {
   "cell_type": "code",
   "execution_count": 7,
   "outputs": [
    {
     "name": "stdout",
     "output_type": "stream",
     "text": [
      "Идентификация прошла успешно, добро пожаловать в систему, User1!\n",
      "Перечень Ваших прав:\n",
      "Object1: ban\n",
      "Object2: read, grant\n",
      "Object3: read, grant\n",
      "Object4: ban\n",
      "Object5: grant, read\n"
     ]
    }
   ],
   "source": [
    "while True:\n",
    "    user_id = input(\"Введите идентификатор пользователя: \")\n",
    "\n",
    "    if user_id not in U:\n",
    "        print(\"Неверный идентификатор пользователя.\")\n",
    "        continue\n",
    "    else:\n",
    "        user_rights = access_matrix.loc[user_id]\n",
    "        print(f\"Идентификация прошла успешно, добро пожаловать в систему, {user_id}!\")\n",
    "        print(\"Перечень Ваших прав:\")\n",
    "\n",
    "        for obj, rights in user_rights.items():\n",
    "            print(f\"{obj}: {', '.join(rights)}\")\n",
    "        break"
   ],
   "metadata": {
    "collapsed": false
   }
  },
  {
   "cell_type": "code",
   "execution_count": 8,
   "outputs": [
    {
     "name": "stdout",
     "output_type": "stream",
     "text": [
      "Неверная команда.\n",
      "Неверная команда.\n",
      "Отказ в выполнении операции. У Вас нет прав для ее осуществления.\n",
      "Неверная команда.\n",
      "Работа пользователя User1 завершена. До свидания.\n"
     ]
    }
   ],
   "source": [
    "while True:\n",
    "    command = input(\"Жду ваших указаний > \")\n",
    "\n",
    "    if command.lower() == \"quit\":\n",
    "        print(f\"Работа пользователя {user_id} завершена. До свидания.\")\n",
    "        break\n",
    "\n",
    "    if command.lower() not in S:\n",
    "        print(\"Неверная команда.\")\n",
    "        continue\n",
    "\n",
    "    obj_number = input(\"Над каким объектом производится операция? \")\n",
    "    if obj_number not in O:\n",
    "        print(\"Неверный номер объекта.\")\n",
    "        continue\n",
    "\n",
    "    obj_index = O.index(obj_number)\n",
    "    user_rights = access_matrix.loc[user_id]\n",
    "    obj_rights = user_rights[f\"Object{obj_index + 1}\"]\n",
    "\n",
    "    if command.lower() == \"grant\" or \"read\" or \"write\":\n",
    "        if \"Передача прав\" not in obj_rights:\n",
    "            print(\"Отказ в выполнении операции. У Вас нет прав для ее осуществления.\")\n",
    "            continue\n",
    "\n",
    "        user_to_grant = input(\"Какому пользователю передается право? \")\n",
    "        if user_to_grant not in U:\n",
    "            print(\"Неверный идентификатор пользователя.\")\n",
    "            continue\n",
    "\n",
    "        object_to_grant = input(\"Право на какой объект передается? \")\n",
    "        if object_to_grant not in O:\n",
    "            print(\"Неверный идентификатор объекта.\")\n",
    "            continue\n",
    "\n",
    "        right_to_grant = input(\"Какое право передается? \")\n",
    "        if right_to_grant not in S:\n",
    "            print(\"Неверный идентификатор права.\")\n",
    "            continue\n",
    "\n",
    "        if \"grant\" or \"full access\" not in user_rights[object_to_grant]:\n",
    "            print(\"Отказ в выполнении операции. У Вас нет прав для ее осуществления\")\n",
    "            continue\n",
    "\n",
    "        access_matrix.at[user_to_grant, object_to_grant] = [right_to_grant]\n",
    "        print(\"Операция прошла успешно\")\n",
    "\n",
    "    elif command == \"quit\":\n",
    "        print(f\"Работа пользователя {user_id} завершена. До свидания.\")\n",
    "        break\n",
    "\n",
    "    else:\n",
    "        print(\"Неверная команда. Повторите попытку.\")"
   ],
   "metadata": {
    "collapsed": false
   }
  }
 ],
 "metadata": {
  "kernelspec": {
   "display_name": "Python 3",
   "language": "python",
   "name": "python3"
  },
  "language_info": {
   "codemirror_mode": {
    "name": "ipython",
    "version": 2
   },
   "file_extension": ".py",
   "mimetype": "text/x-python",
   "name": "python",
   "nbconvert_exporter": "python",
   "pygments_lexer": "ipython2",
   "version": "2.7.6"
  }
 },
 "nbformat": 4,
 "nbformat_minor": 0
}
