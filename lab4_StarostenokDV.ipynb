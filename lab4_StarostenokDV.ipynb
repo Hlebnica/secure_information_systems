{
 "cells": [
  {
   "attachments": {},
   "cell_type": "markdown",
   "metadata": {},
   "source": [
    "Старостенок Дмитрий Владимирович\n",
    "\n",
    "КЭ-303\n",
    "\n",
    "Вариант 29\n"
   ]
  },
  {
   "cell_type": "code",
   "execution_count": 115,
   "metadata": {},
   "outputs": [],
   "source": [
    "variant_shift = 29 # Сдвиг по варианту\n",
    "encryption_keys = {\"w\": \"a\", \"t\": \"d\", \"a\": \"t\", \"d\": \"p\", \"x\": \"i\", \"p\": \" \", \" \": \"w\", \"H\": \"N\", \"l\": \"g\", \"e\": \"i\", \"o\": \"a\"} # Ключ для шифра замены"
   ]
  },
  {
   "attachments": {},
   "cell_type": "markdown",
   "metadata": {},
   "source": [
    "# Шифр Цезаря"
   ]
  },
  {
   "cell_type": "code",
   "execution_count": 116,
   "metadata": {},
   "outputs": [],
   "source": [
    "# Функция шифрования\n",
    "def cipher_encrypt(plain_text, key):\n",
    "    encrypted = \"\"\n",
    "    for word in plain_text:\n",
    "        if word.isupper(): #проверить, является ли символ прописным\n",
    "            word_index = ord(word) - ord('A')\n",
    "            # сдвиг текущего символа на позицию key\n",
    "            word_shifted = (word_index + key) % 26 + ord('A')\n",
    "            word_new = chr(word_shifted)\n",
    "            encrypted += word_new\n",
    "        elif word.islower(): #проверка наличия символа в нижнем регистре\n",
    "            # вычесть юникод 'a', чтобы получить индекс в диапазоне [0-25)\n",
    "            word_index = ord(word) - ord('a')\n",
    "            word_shifted = (word_index + key) % 26 + ord('a')\n",
    "            word_new = chr(word_shifted)\n",
    "            encrypted += word_new\n",
    "        elif word.isdigit():\n",
    "            # если это число, сдвинуть его фактическое значение \n",
    "            word_new = (int(word) + key) % 10\n",
    "            encrypted += str(word_new)\n",
    "        else:\n",
    "            # если нет ни алфавита, ни числа, оставьте все как есть\n",
    "            encrypted += word\n",
    "    return encrypted\n"
   ]
  },
  {
   "cell_type": "code",
   "execution_count": 117,
   "metadata": {},
   "outputs": [],
   "source": [
    "# Функция дешифрования\n",
    "def cipher_decrypt(ciphertext, key):\n",
    "    decrypted = \"\"\n",
    "    for word in ciphertext:\n",
    "        if word.isupper():\n",
    "            word_index = ord(word) - ord('A')\n",
    "            # sсдвинуть текущий символ влево на позицию клавиши, чтобы получить его исходное положение\n",
    "            word_og_pos = (word_index - key) % 26 + ord('A')\n",
    "            word_og = chr(word_og_pos)\n",
    "            decrypted += word_og\n",
    "        elif word.islower():\n",
    "            word_index = ord(word) - ord('a')\n",
    "            word_og_pos = (word_index - key) % 26 + ord('a')\n",
    "            word_og = chr(word_og_pos)\n",
    "            decrypted += word_og\n",
    "        elif word.isdigit(): # если это число, сдвиньте его фактическое значение\n",
    "            word_og = (int(word) - key) % 10\n",
    "            decrypted += str(word_og)\n",
    "        else: # если нет ни алфавита, ни числа, оставьте все как есть\n",
    "            decrypted += word\n",
    "    return decrypted\n",
    "\n"
   ]
  },
  {
   "attachments": {},
   "cell_type": "markdown",
   "metadata": {},
   "source": [
    "# Шифр замены"
   ]
  },
  {
   "cell_type": "code",
   "execution_count": 118,
   "metadata": {},
   "outputs": [],
   "source": [
    "# Функция шифрования\n",
    "def substitution_cipher(text, key):\n",
    "    cipher_text = \"\"\n",
    "    for char in text:\n",
    "        # Игнорируем пробелы и символы, которые не содержатся в ключе\n",
    "        if char == \" \" or char not in key:\n",
    "            cipher_text += char\n",
    "        else:\n",
    "            cipher_text += key[char]\n",
    "    return cipher_text\n"
   ]
  },
  {
   "cell_type": "code",
   "execution_count": 119,
   "metadata": {},
   "outputs": [],
   "source": [
    "# Функция дешифрования\n",
    "def substitution_decipher(cipher_text, key):\n",
    "    decryption_key = {v: k for k, v in key.items()}\n",
    "    text = \"\"\n",
    "    for char in cipher_text:\n",
    "        # Игнорируем пробелы и символы, которые не содержатся в ключе\n",
    "        if char == \" \" or char not in decryption_key:\n",
    "            text += char\n",
    "        else:\n",
    "            text += decryption_key[char]\n",
    "    return text\n",
    "\n",
    "\n"
   ]
  },
  {
   "attachments": {},
   "cell_type": "markdown",
   "metadata": {},
   "source": [
    "# Шифр Виженера"
   ]
  },
  {
   "cell_type": "code",
   "execution_count": null,
   "metadata": {},
   "outputs": [],
   "source": []
  },
  {
   "cell_type": "code",
   "execution_count": null,
   "metadata": {},
   "outputs": [],
   "source": []
  },
  {
   "attachments": {},
   "cell_type": "markdown",
   "metadata": {},
   "source": [
    "# Запуск программы"
   ]
  },
  {
   "cell_type": "code",
   "execution_count": 120,
   "metadata": {},
   "outputs": [
    {
     "name": "stdout",
     "output_type": "stream",
     "text": [
      "Зашифрованный текст:\n",
      "pgfshsfghrd\n",
      "Расшифрованный текст:\n",
      "dlfshsflhrt\n"
     ]
    }
   ],
   "source": [
    "switcher = int(input(\"Введите номер шифра\\n\" +\n",
    "      \"1 - Шифр Цезаря\\n\" + \n",
    "      \"2 - Шифр замены\\n\" +\n",
    "      \"3 - Шифр Виженера\\n\"))\n",
    "if switcher == 1:\n",
    "    text = input(\"Введите текст для шифрования\")\n",
    "    ciphertext = cipher_encrypt(text, variant_shift)\n",
    "    print(\"Зашифрованный текст:\\n\" + ciphertext)\n",
    "    print(\"Расшифрованный текст:\\n\" + cipher_decrypt(ciphertext, variant_shift))\n",
    "elif switcher == 2:\n",
    "    text = input(\"Введите текст для шифрования\")\n",
    "    ciphertext = substitution_cipher(text, encryption_keys)\n",
    "    print(\"Зашифрованный текст:\\n\" + ciphertext)\n",
    "    print(\"Расшифрованный текст:\\n\" + substitution_decipher(ciphertext, encryption_keys))\n",
    "elif switcher == 3:\n",
    "    pass\n"
   ]
  }
 ],
 "metadata": {
  "kernelspec": {
   "display_name": "Python 3",
   "language": "python",
   "name": "python3"
  },
  "language_info": {
   "codemirror_mode": {
    "name": "ipython",
    "version": 3
   },
   "file_extension": ".py",
   "mimetype": "text/x-python",
   "name": "python",
   "nbconvert_exporter": "python",
   "pygments_lexer": "ipython3",
   "version": "3.11.2"
  },
  "orig_nbformat": 4
 },
 "nbformat": 4,
 "nbformat_minor": 2
}
