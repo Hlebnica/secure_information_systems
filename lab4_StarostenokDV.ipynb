{
 "cells": [
  {
   "attachments": {},
   "cell_type": "markdown",
   "metadata": {},
   "source": [
    "Старостенок Дмитрий Владимирович\n",
    "\n",
    "КЭ-303\n",
    "\n",
    "Вариант 29\n"
   ]
  },
  {
   "cell_type": "code",
   "execution_count": 17,
   "metadata": {},
   "outputs": [],
   "source": [
    "variant_shift = 29 # Сдвиг по варианту для шифра Цезаря\n",
    "encryption_keys = {\"w\": \"a\", \"t\": \"d\", \"a\": \"t\", \"d\": \"p\", \"x\": \"i\", \"p\": \" \", \" \": \"w\", \"H\": \"N\", \"l\": \"g\", \"e\": \"i\", \"o\": \"a\"} # Ключ для шифра замены\n",
    "cipher_word = \"cats\" # шифр-слово для шифра Вижинера"
   ]
  },
  {
   "attachments": {},
   "cell_type": "markdown",
   "metadata": {},
   "source": [
    "# Шифр Цезаря"
   ]
  },
  {
   "cell_type": "code",
   "execution_count": 18,
   "metadata": {},
   "outputs": [],
   "source": [
    "# Функция шифрования\n",
    "def cipher_encrypt(plain_text, key):\n",
    "    encrypted = \"\"\n",
    "    for word in plain_text:\n",
    "        if word.isupper(): #проверить, является ли символ прописным\n",
    "            word_index = ord(word) - ord('A')\n",
    "            # сдвиг текущего символа на позицию key\n",
    "            word_shifted = (word_index + key) % 26 + ord('A')\n",
    "            word_new = chr(word_shifted)\n",
    "            encrypted += word_new\n",
    "        elif word.islower(): #проверка наличия символа в нижнем регистре\n",
    "            # вычесть юникод 'a', чтобы получить индекс в диапазоне [0-25)\n",
    "            word_index = ord(word) - ord('a')\n",
    "            word_shifted = (word_index + key) % 26 + ord('a')\n",
    "            word_new = chr(word_shifted)\n",
    "            encrypted += word_new\n",
    "        elif word.isdigit():\n",
    "            # если это число, сдвинуть его фактическое значение \n",
    "            word_new = (int(word) + key) % 10\n",
    "            encrypted += str(word_new)\n",
    "        else:\n",
    "            # если нет ни алфавита, ни числа, оставьте все как есть\n",
    "            encrypted += word\n",
    "    return encrypted\n"
   ]
  },
  {
   "cell_type": "code",
   "execution_count": 19,
   "metadata": {},
   "outputs": [],
   "source": [
    "# Функция дешифрования\n",
    "def cipher_decrypt(ciphertext, key):\n",
    "    decrypted = \"\"\n",
    "    for word in ciphertext:\n",
    "        if word.isupper():\n",
    "            word_index = ord(word) - ord('A')\n",
    "            # sсдвинуть текущий символ влево на позицию клавиши, чтобы получить его исходное положение\n",
    "            word_og_pos = (word_index - key) % 26 + ord('A')\n",
    "            word_og = chr(word_og_pos)\n",
    "            decrypted += word_og\n",
    "        elif word.islower():\n",
    "            word_index = ord(word) - ord('a')\n",
    "            word_og_pos = (word_index - key) % 26 + ord('a')\n",
    "            word_og = chr(word_og_pos)\n",
    "            decrypted += word_og\n",
    "        elif word.isdigit(): # если это число, сдвиньте его фактическое значение\n",
    "            word_og = (int(word) - key) % 10\n",
    "            decrypted += str(word_og)\n",
    "        else: # если нет ни алфавита, ни числа, оставьте все как есть\n",
    "            decrypted += word\n",
    "    return decrypted\n",
    "\n"
   ]
  },
  {
   "attachments": {},
   "cell_type": "markdown",
   "metadata": {},
   "source": [
    "# Шифр замены"
   ]
  },
  {
   "cell_type": "code",
   "execution_count": 20,
   "metadata": {},
   "outputs": [],
   "source": [
    "# Функция шифрования\n",
    "def substitution_encrypt(text, key):\n",
    "    cipher_text = \"\"\n",
    "    for char in text:\n",
    "        # Игнорируем пробелы и символы, которые не содержатся в ключе\n",
    "        if char == \" \" or char not in key:\n",
    "            cipher_text += char\n",
    "        else:\n",
    "            cipher_text += key[char]\n",
    "    return cipher_text\n"
   ]
  },
  {
   "cell_type": "code",
   "execution_count": 21,
   "metadata": {},
   "outputs": [],
   "source": [
    "# Функция дешифрования\n",
    "def substitution_decrypt(cipher_text, key):\n",
    "    decryption_key = {v: k for k, v in key.items()}\n",
    "    text = \"\"\n",
    "    for char in cipher_text:\n",
    "        # Игнорируем пробелы и символы, которые не содержатся в ключе\n",
    "        if char == \" \" or char not in decryption_key:\n",
    "            text += char\n",
    "        else:\n",
    "            text += decryption_key[char]\n",
    "    return text\n",
    "\n",
    "\n"
   ]
  },
  {
   "attachments": {},
   "cell_type": "markdown",
   "metadata": {},
   "source": [
    "# Шифр Виженера"
   ]
  },
  {
   "cell_type": "code",
   "execution_count": 22,
   "metadata": {},
   "outputs": [],
   "source": [
    "# Функция шифрования\n",
    "def vigenere_encrypt(plaintext, key):\n",
    "    ciphertext = ''\n",
    "    key_index = 0\n",
    "    for char in plaintext:\n",
    "        if char.isalpha():\n",
    "            # Получаем символ ключа, используя индекс key_index и длину ключа len(key)\n",
    "            key_char = key[key_index % len(key)]\n",
    "            key_index += 1\n",
    "            # Вычисляем сдвиг для текущего символа, используя символ ключа\n",
    "            shift = ord(key_char.upper()) - ord('A')\n",
    "            if char.isupper():\n",
    "                ciphertext += chr((ord(char) - ord('A') + shift) % 26 + ord('A'))\n",
    "            else:\n",
    "                ciphertext += chr((ord(char) - ord('a') + shift) % 26 + ord('a'))\n",
    "        else:\n",
    "            ciphertext += char\n",
    "    return ciphertext"
   ]
  },
  {
   "cell_type": "code",
   "execution_count": 23,
   "metadata": {},
   "outputs": [],
   "source": [
    "# Функция дешифрования\n",
    "def vigenere_decrypt(ciphertext, key):\n",
    "    plaintext = ''\n",
    "    key_index = 0\n",
    "    for char in ciphertext:\n",
    "        if char.isalpha():\n",
    "            key_char = key[key_index % len(key)]\n",
    "            key_index += 1\n",
    "            shift = ord(key_char.upper()) - ord('A')\n",
    "            if char.isupper():\n",
    "                plaintext += chr((ord(char) - ord('A') - shift) % 26 + ord('A'))\n",
    "            else:\n",
    "                plaintext += chr((ord(char) - ord('a') - shift) % 26 + ord('a'))\n",
    "        else:\n",
    "            plaintext += char\n",
    "    return plaintext"
   ]
  },
  {
   "attachments": {},
   "cell_type": "markdown",
   "metadata": {},
   "source": [
    "# Запуск программы"
   ]
  },
  {
   "cell_type": "code",
   "execution_count": 24,
   "metadata": {},
   "outputs": [
    {
     "name": "stdout",
     "output_type": "stream",
     "text": [
      "--Шифр Цезаря--\n",
      "\n",
      "Введенный для шифрования текст:\n",
      "Little cats run along the path\n",
      "Зашифрованный текст:\n",
      "Olwwoh fdwv uxq dorqj wkh sdwk\n",
      "Расшифрованный текст:\n",
      "Little cats run along the path\n"
     ]
    }
   ],
   "source": [
    "switcher = int(input(\"Введите номер шифра\\n\" +\n",
    "      \"1 - Шифр Цезаря\\n\" + \n",
    "      \"2 - Шифр замены\\n\" +\n",
    "      \"3 - Шифр Виженера\\n\"))\n",
    "if switcher == 1:\n",
    "    print(\"--Шифр Цезаря--\\n\")\n",
    "    text = input(\"Введите текст для шифрования\")\n",
    "    print(\"Введенный для шифрования текст:\\n\" + text)\n",
    "    ciphertext = cipher_encrypt(text, variant_shift)\n",
    "    print(\"Зашифрованный текст:\\n\" + ciphertext)\n",
    "    print(\"Расшифрованный текст:\\n\" + cipher_decrypt(ciphertext, variant_shift))\n",
    "elif switcher == 2:\n",
    "    print(\"--Шифр замены--\\n\")\n",
    "    text = input(\"Введите текст для шифрования\")\n",
    "    print(\"Введенный для шифрования текст:\\n\" + text)\n",
    "    ciphertext = substitution_encrypt(text, encryption_keys)\n",
    "    print(\"Зашифрованный текст:\\n\" + ciphertext)\n",
    "    print(\"Расшифрованный текст:\\n\" + substitution_decrypt(ciphertext, encryption_keys))\n",
    "elif switcher == 3:\n",
    "    print(\"--Шифр Виженера--\\n\")\n",
    "    text = input(\"Введите текст для шифрования\")\n",
    "    print(\"Введенный для шифрования текст:\\n\" + text)\n",
    "    ciphertext = vigenere_encrypt(text, cipher_word)\n",
    "    print(\"Зашифрованный текст:\\n\" + ciphertext)\n",
    "    print(\"Расшифрованный текст:\\n\" + vigenere_decrypt(ciphertext, cipher_word))\n"
   ]
  }
 ],
 "metadata": {
  "kernelspec": {
   "display_name": "Python 3",
   "language": "python",
   "name": "python3"
  },
  "language_info": {
   "codemirror_mode": {
    "name": "ipython",
    "version": 3
   },
   "file_extension": ".py",
   "mimetype": "text/x-python",
   "name": "python",
   "nbconvert_exporter": "python",
   "pygments_lexer": "ipython3",
   "version": "3.11.2"
  },
  "orig_nbformat": 4
 },
 "nbformat": 4,
 "nbformat_minor": 2
}
