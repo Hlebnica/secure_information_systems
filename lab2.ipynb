{
 "cells": [
  {
   "cell_type": "markdown",
   "metadata": {
    "collapsed": false
   },
   "source": [
    "Старостенок Дмитрий Владимирович\n",
    "\n",
    "КЭ-303\n",
    "\n",
    "Вариант 29\n"
   ]
  },
  {
   "attachments": {},
   "cell_type": "markdown",
   "metadata": {
    "collapsed": false
   },
   "source": [
    "Количество субъектов доступа (пользователей) - 6\n",
    "Количество объектов доступа - 5"
   ]
  },
  {
   "cell_type": "code",
   "execution_count": 40,
   "metadata": {},
   "outputs": [],
   "source": [
    "import random\n",
    "import pandas as pd\n",
    "import sys"
   ]
  },
  {
   "cell_type": "code",
   "execution_count": 41,
   "metadata": {
    "collapsed": true
   },
   "outputs": [],
   "source": [
    "S = [\"Read\", \"Write\", \"Grant privileges\", \"Forbidden\", \"All privileges\"]\n",
    "users = (\"Admin\", \"User1\", \"User2\", \"User3\", \"User4\", \"User5\")\n",
    "user_count = len(users)\n",
    "objects = (\"Object1\", \"Object2\", \"Object3\", \"Object4\", \"Object5\")\n",
    "object_count = len(objects)"
   ]
  },
  {
   "cell_type": "code",
   "execution_count": 42,
   "metadata": {
    "collapsed": false
   },
   "outputs": [
    {
     "name": "stdout",
     "output_type": "stream",
     "text": [
      "                               Object1                          Object2  \\\n",
      "Admin                 [All privileges]                 [All privileges]   \n",
      "User1                    [Write, Read]  [Write, Grant privileges, Read]   \n",
      "User2         [Grant privileges, Read]         [Grant privileges, Read]   \n",
      "User3  [Read, Grant privileges, Write]  [Write, Read, Grant privileges]   \n",
      "User4  [Read, Grant privileges, Write]                      [Forbidden]   \n",
      "User5        [Write, Grant privileges]         [Grant privileges, Read]   \n",
      "\n",
      "                               Object3                          Object4  \\\n",
      "Admin                 [All privileges]                 [All privileges]   \n",
      "User1         [Read, Grant privileges]                      [Forbidden]   \n",
      "User2  [Read, Grant privileges, Write]  [Read, Grant privileges, Write]   \n",
      "User3                    [Read, Write]         [Grant privileges, Read]   \n",
      "User4         [Grant privileges, Read]  [Read, Write, Grant privileges]   \n",
      "User5                      [Forbidden]  [Write, Read, Grant privileges]   \n",
      "\n",
      "                        Object5  \n",
      "Admin          [All privileges]  \n",
      "User1                   [Write]  \n",
      "User2               [Forbidden]  \n",
      "User3        [Grant privileges]  \n",
      "User4                    [Read]  \n",
      "User5  [Read, Grant privileges]  \n"
     ]
    }
   ],
   "source": [
    "access_matrix = {}\n",
    "\n",
    "for user in users:\n",
    "    access_matrix[user] = {}\n",
    "    for OBJECT in objects:\n",
    "        if user == \"Admin\":\n",
    "            access_matrix[user][OBJECT] = [\"All privileges\"]\n",
    "        else:\n",
    "            privileges_count = random.randint(1, 3)\n",
    "            privileges = []\n",
    "            match privileges_count:\n",
    "                case 1:\n",
    "                    privilege = random.randint(0, 4)\n",
    "                    privileges.append(S[privilege])\n",
    "                case _:\n",
    "                    tmp_priv = random.sample(S[0:3], privileges_count)\n",
    "                    for i in range(privileges_count):\n",
    "                        privileges.append(tmp_priv[i])\n",
    "\n",
    "            access_matrix[user][OBJECT] = privileges\n",
    "\n",
    "\n",
    "print(pd.DataFrame.from_dict(access_matrix).T)\n"
   ]
  },
  {
   "cell_type": "code",
   "execution_count": null,
   "outputs": [],
   "source": [
    "while True:\n",
    "    print(\"login\", end=\"\")\n",
    "    cur_user = input()\n",
    "\n",
    "    if cur_user not in users:\n",
    "        print(\"Wrong username!\")\n",
    "        continue\n",
    "\n",
    "    else:\n",
    "        print(f'User: {cur_user}')\n",
    "        print('Identification successful, welcome to the system!')\n",
    "        print('List of your privileges:')\n",
    "        for _ in access_matrix[cur_user]:\n",
    "            privileges= \"\"\n",
    "            for priv in access_matrix[cur_user][_]:\n",
    "                if len(privileges) == 0:\n",
    "                    privileges += priv\n",
    "                else:\n",
    "                    privileges += \", \" + priv\n",
    "            print(f'\\t{_}: {privileges}')\n",
    "    break"
   ],
   "metadata": {
    "collapsed": false,
    "pycharm": {
     "is_executing": true
    }
   }
  },
  {
   "cell_type": "code",
   "execution_count": null,
   "outputs": [],
   "source": [
    "while True:\n",
    "    command = input(\"Enter command > \")\n",
    "\n",
    "    if command == \"quit\":\n",
    "        print(f\"The work of the user {cur_user} is finished. Goodbye.\")\n",
    "        cur_user = None\n",
    "        break\n",
    "\n",
    "    if command not in (\"read\", \"write\", \"grant\"):\n",
    "        print(\"Wrong command\")\n",
    "        sys.stdout.flush()\n",
    "        continue\n",
    "\n",
    "    elif command == \"read\":\n",
    "        print(\"Which object is being operated on? (read)\")\n",
    "        cur_obj = input()\n",
    "        if cur_obj not in objects:\n",
    "            print(\"There is no such object in the system.\")\n",
    "            sys.stdout.flush()\n",
    "            continue\n",
    "        if \"Read\" not in access_matrix[cur_user][cur_obj] and \"All privileges\" not in access_matrix[cur_user][cur_obj]:\n",
    "            print(\"Refusal to perform an operation. You have no rights to perform it.\")\n",
    "            sys.stdout.flush()\n",
    "            continue\n",
    "        print(\"The operation was successful! (read)\")\n",
    "\n",
    "    elif command == \"write\":\n",
    "        print(\"Which object is being operated on? (write)\")\n",
    "        cur_obj = input()\n",
    "        if cur_obj not in objects:\n",
    "            print(\"There is no such object in the system.\")\n",
    "            sys.stdout.flush()\n",
    "            continue\n",
    "        if \"Write\" not in access_matrix[cur_user][cur_obj] and \"All privileges\" not in access_matrix[cur_user][cur_obj]:\n",
    "            print(\"Refusal to perform an operation. You have no rights to perform it.\")\n",
    "            sys.stdout.flush()\n",
    "            continue\n",
    "        print(\"The operation was successful! (write)\")\n",
    "\n",
    "    elif command == \"grant\":\n",
    "        print(\"Which object is being operated on? (grant)\")\n",
    "        cur_obj = input()\n",
    "        if cur_obj not in objects:\n",
    "            print(\"There is no such object in the system.\")\n",
    "            sys.stdout.flush()\n",
    "            continue\n",
    "        if \"Grant privileges\" not in access_matrix[cur_user][cur_obj] and \"All privileges\" not in access_matrix[cur_user][cur_obj]:\n",
    "            print(\"Refusal to perform an operation. You have no rights to perform it.\")\n",
    "            sys.stdout.flush()\n",
    "            continue\n",
    "        print(\"What privilege is being transferred? (Read/Write/Grant privileges/Forbidden/All privileges) \", end=\"\")\n",
    "        cur_privilege = input()\n",
    "        if cur_privilege not in S:\n",
    "            print(\"There is no such privilege in the system. \")\n",
    "            sys.stdout.flush()\n",
    "            continue\n",
    "        print(\"To which user is the right transferred? \", end=\"\")\n",
    "\n",
    "        selected_user = input()\n",
    "        if selected_user not in users:\n",
    "            print(\"There is no such user in the system.\")\n",
    "            sys.stdout.flush()\n",
    "            continue\n",
    "        if cur_privilege not in access_matrix[selected_user][cur_obj] and \"All privileges\" not in access_matrix[selected_user][cur_obj]:\n",
    "            access_matrix[selected_user][cur_obj].append(cur_privilege)\n",
    "            print(\"The operation was successful.\")\n",
    "        else:\n",
    "            print(\"User already has this privilege.\")"
   ],
   "metadata": {
    "collapsed": false,
    "pycharm": {
     "is_executing": true
    }
   }
  },
  {
   "cell_type": "markdown",
   "metadata": {
    "collapsed": false
   },
   "source": [
    "Контрольные вопросы\n",
    "1. Что понимается под политикой безопасности в компьютерной\n",
    "системе?\n",
    "- Это набор правил и процедур, определяющих, какие ресурсы и операции могут выполняться в системе, какие субъекты имеют право на доступ к этим ресурсам и операциям, и как они должны взаимодействовать между собой, чтобы обеспечить безопасность системы\n",
    "\n",
    "\n",
    "2. В чем заключается модель дискреционной политики безопасности в\n",
    "компьютерной системе?\n",
    "- Это модель политики безопасности, в которой субъекты имеют право на управление доступом к ресурсам на основе правил, которые определяются владельцем ресурса. Таким образом, владелец ресурса может определять, какие субъекты имеют право на доступ к его ресурсу и какие операции они могут выполнять с этим ресурсом\n",
    "\n",
    "\n",
    "3. Что понимается под матрицей доступа в дискреционной политике\n",
    "безопасности? Что хранится в данной матрице?\n",
    "- Это таблица, в которой перечислены все объекты и субъекты в системе, а также их права доступа к каждому объекту. Каждая ячейка матрицы показывает, какой уровень доступа имеет субъект к объекту. Например, если ячейка содержит значение \"доступ запрещен\", то субъект не имеет права на доступ к данному объекту\n",
    "\n",
    "\n",
    "4. Какие действия производятся над матрицей доступа в том случае,\n",
    "когда один субъект передает другому субъекту свои права доступа к\n",
    "объекту компьютерной системы?\n",
    "- Если один субъект передает другому свои права доступа к объекту, то производятся изменения в матрице доступа. Новые права доступа добавляются в матрицу, которые разрешают доступ другому субъекту к объекту. Однако, передача прав доступа может также привести к нарушению безопасности системы, поэтому передача прав должна быть осуществлена с осторожностью и только в случаях, когда это действительно необходимо.\n"
   ]
  }
 ],
 "metadata": {
  "kernelspec": {
   "display_name": "Python 3.9.13 64-bit",
   "language": "python",
   "name": "python3"
  },
  "language_info": {
   "codemirror_mode": {
    "name": "ipython",
    "version": 3
   },
   "file_extension": ".py",
   "mimetype": "text/x-python",
   "name": "python",
   "nbconvert_exporter": "python",
   "pygments_lexer": "ipython3",
   "version": "3.9.13"
  },
  "vscode": {
   "interpreter": {
    "hash": "6a50f7240a2038d609e57a1f7523e7acd01e636c6ac4354e2d92058f3fb497af"
   }
  }
 },
 "nbformat": 4,
 "nbformat_minor": 0
}
