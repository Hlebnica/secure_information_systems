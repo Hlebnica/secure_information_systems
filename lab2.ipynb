{
 "cells": [
  {
   "cell_type": "markdown",
   "source": [
    "Старостенок Дмитрий Владимирович\n",
    "\n",
    "КЭ-303\n",
    "\n",
    "Вариант 29\n"
   ],
   "metadata": {
    "collapsed": false
   }
  },
  {
   "cell_type": "markdown",
   "source": [
    "Количество субъектов      |  Количество объектов\n",
    "доступа (пользователей)   |      доступа\n",
    "--------------------------------------------------\n",
    "        6                 |         5"
   ],
   "metadata": {
    "collapsed": false
   }
  },
  {
   "cell_type": "code",
   "execution_count": null,
   "metadata": {
    "collapsed": true
   },
   "outputs": [],
   "source": []
  },
  {
   "cell_type": "code",
   "execution_count": null,
   "outputs": [],
   "source": [],
   "metadata": {
    "collapsed": false
   }
  },
  {
   "cell_type": "code",
   "execution_count": null,
   "outputs": [],
   "source": [],
   "metadata": {
    "collapsed": false
   }
  },
  {
   "cell_type": "code",
   "execution_count": null,
   "outputs": [],
   "source": [],
   "metadata": {
    "collapsed": false
   }
  },
  {
   "cell_type": "markdown",
   "source": [
    "Контрольные вопросы\n",
    "1. Что понимается под политикой безопасности в компьютерной\n",
    "системе?\n",
    "\n",
    "\n",
    "2. В чем заключается модель дискреционной политики безопасности в\n",
    "компьютерной системе?\n",
    "\n",
    "\n",
    "3. Что понимается под матрицей доступа в дискреционной политике\n",
    "безопасности? Что хранится в данной матрице?\n",
    "\n",
    "\n",
    "4. Какие действия производятся над матрицей доступа в том случае,\n",
    "когда один субъект передает другому субъекту свои права доступа к\n",
    "объекту компьютерной системы?\n",
    "\n"
   ],
   "metadata": {
    "collapsed": false
   }
  }
 ],
 "metadata": {
  "kernelspec": {
   "display_name": "Python 3",
   "language": "python",
   "name": "python3"
  },
  "language_info": {
   "codemirror_mode": {
    "name": "ipython",
    "version": 2
   },
   "file_extension": ".py",
   "mimetype": "text/x-python",
   "name": "python",
   "nbconvert_exporter": "python",
   "pygments_lexer": "ipython2",
   "version": "2.7.6"
  }
 },
 "nbformat": 4,
 "nbformat_minor": 0
}
