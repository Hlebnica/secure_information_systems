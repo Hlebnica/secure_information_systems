{
 "cells": [
  {
   "cell_type": "markdown",
   "metadata": {
    "collapsed": false
   },
   "source": [
    "Старостенок Дмитрий Владимирович\n",
    "\n",
    "КЭ-303\n",
    "\n",
    "Вариант 29\n"
   ]
  },
  {
   "attachments": {},
   "cell_type": "markdown",
   "metadata": {
    "collapsed": false
   },
   "source": [
    "Количество субъектов доступа (пользователей) - 6\n",
    "Количество объектов доступа - 5"
   ]
  },
  {
   "cell_type": "code",
   "execution_count": 30,
   "metadata": {},
   "outputs": [],
   "source": [
    "import pandas as pd\n",
    "import numpy as np"
   ]
  },
  {
   "cell_type": "code",
   "execution_count": 31,
   "metadata": {
    "collapsed": true
   },
   "outputs": [],
   "source": [
    "S = [\"read\", \"write\", \"grant\"]  # Набор операций над объектами\n",
    "U = [\"User1\", \"User2\", \"User3\", \"User4\", \"User5\", \"User6\"]  # Множество субъектов\n",
    "O = [\"Object1\", \"Object2\", \"Object3\", \"Object4\", \"Object5\"]  # Множество объектов доступа"
   ]
  },
  {
   "cell_type": "code",
   "execution_count": 32,
   "metadata": {
    "collapsed": false
   },
   "outputs": [],
   "source": [
    "def get_random_rights(access_rights):\n",
    "    rights = np.random.choice(access_rights, size=np.random.choice(len(access_rights) + 1), replace=False)\n",
    "\n",
    "    if len(rights) == 0 or len(rights) == 1 and \"grant\" in rights:\n",
    "        rights = [\"ban\"]\n",
    "    elif len(rights) == len(access_rights):\n",
    "        rights = [\"full access\"]\n",
    "    return rights"
   ]
  },
  {
   "cell_type": "code",
   "execution_count": 33,
   "metadata": {
    "collapsed": false
   },
   "outputs": [
    {
     "data": {
      "text/plain": "              Object1        Object2        Object3         Object4  \\\nUser1  [grant, write]          [ban]  [full access]           [ban]   \nUser2         [write]  [full access]  [full access]         [write]   \nUser3   [full access]  [full access]          [ban]           [ban]   \nUser4   [full access]          [ban]  [full access]   [read, write]   \nUser5   [full access]  [full access]          [ban]  [grant, write]   \nUser6   [full access]  [full access]  [full access]   [full access]   \n\n              Object5  \nUser1         [write]  \nUser2          [read]  \nUser3  [write, grant]  \nUser4  [grant, write]  \nUser5  [write, grant]  \nUser6   [full access]  ",
      "text/html": "<div>\n<style scoped>\n    .dataframe tbody tr th:only-of-type {\n        vertical-align: middle;\n    }\n\n    .dataframe tbody tr th {\n        vertical-align: top;\n    }\n\n    .dataframe thead th {\n        text-align: right;\n    }\n</style>\n<table border=\"1\" class=\"dataframe\">\n  <thead>\n    <tr style=\"text-align: right;\">\n      <th></th>\n      <th>Object1</th>\n      <th>Object2</th>\n      <th>Object3</th>\n      <th>Object4</th>\n      <th>Object5</th>\n    </tr>\n  </thead>\n  <tbody>\n    <tr>\n      <th>User1</th>\n      <td>[grant, write]</td>\n      <td>[ban]</td>\n      <td>[full access]</td>\n      <td>[ban]</td>\n      <td>[write]</td>\n    </tr>\n    <tr>\n      <th>User2</th>\n      <td>[write]</td>\n      <td>[full access]</td>\n      <td>[full access]</td>\n      <td>[write]</td>\n      <td>[read]</td>\n    </tr>\n    <tr>\n      <th>User3</th>\n      <td>[full access]</td>\n      <td>[full access]</td>\n      <td>[ban]</td>\n      <td>[ban]</td>\n      <td>[write, grant]</td>\n    </tr>\n    <tr>\n      <th>User4</th>\n      <td>[full access]</td>\n      <td>[ban]</td>\n      <td>[full access]</td>\n      <td>[read, write]</td>\n      <td>[grant, write]</td>\n    </tr>\n    <tr>\n      <th>User5</th>\n      <td>[full access]</td>\n      <td>[full access]</td>\n      <td>[ban]</td>\n      <td>[grant, write]</td>\n      <td>[write, grant]</td>\n    </tr>\n    <tr>\n      <th>User6</th>\n      <td>[full access]</td>\n      <td>[full access]</td>\n      <td>[full access]</td>\n      <td>[full access]</td>\n      <td>[full access]</td>\n    </tr>\n  </tbody>\n</table>\n</div>"
     },
     "execution_count": 33,
     "metadata": {},
     "output_type": "execute_result"
    }
   ],
   "source": [
    "access_matrix = pd.DataFrame(columns=[f\"Object{n + 1}\" for n in range(len(O))], index=U[:len(U)])\n",
    "access_matrix = access_matrix.applymap(lambda x: get_random_rights(S))\n",
    "\n",
    "access_matrix.iloc[[np.random.randint(len(access_matrix.index))]] = [[['full access']]]\n",
    "access_matrix"
   ]
  },
  {
   "cell_type": "code",
   "execution_count": 34,
   "metadata": {
    "collapsed": false
   },
   "outputs": [
    {
     "name": "stdout",
     "output_type": "stream",
     "text": [
      "Идентификация прошла успешно, добро пожаловать в систему, User1!\n",
      "Перечень Ваших прав:\n",
      "Object1: grant, write\n",
      "Object2: ban\n",
      "Object3: full access\n",
      "Object4: ban\n",
      "Object5: write\n"
     ]
    }
   ],
   "source": [
    "while True:\n",
    "    user_id = input(\"Введите идентификатор пользователя: \")\n",
    "\n",
    "    if user_id not in U:\n",
    "        print(\"Неверный идентификатор пользователя.\")\n",
    "        continue\n",
    "    else:\n",
    "        user_rights = access_matrix.loc[user_id]\n",
    "        print(f\"Идентификация прошла успешно, добро пожаловать в систему, {user_id}!\")\n",
    "        print(\"Перечень Ваших прав:\")\n",
    "\n",
    "        for obj, rights in user_rights.items():\n",
    "            print(f\"{obj}: {', '.join(rights)}\")\n",
    "        break\n"
   ]
  },
  {
   "cell_type": "code",
   "execution_count": 35,
   "metadata": {},
   "outputs": [],
   "source": []
  },
  {
   "cell_type": "code",
   "execution_count": 36,
   "metadata": {},
   "outputs": [
    {
     "name": "stdout",
     "output_type": "stream",
     "text": [
      "Работа пользователя User1 завершена. До свидания.\n"
     ]
    }
   ],
   "source": [
    "while True:\n",
    "    command = input(\"Жду ваших указаний > \")\n",
    "\n",
    "    if command.lower() == \"quit\":\n",
    "        print(f\"Работа пользователя {user_id} завершена. До свидания.\")\n",
    "        break\n",
    "\n",
    "    if command.lower() not in S:\n",
    "        print(\"Неверная команда.\")\n",
    "        continue\n",
    "\n",
    "    obj_number = input(\"Над каким объектом производится операция? \")\n",
    "    if obj_number not in O:\n",
    "        print(\"Неверный номер объекта.\")\n",
    "        continue\n",
    "\n",
    "    obj_index = O.index(obj_number)\n",
    "    user_rights = access_matrix.loc[user_id]\n",
    "    obj_rights = user_rights[f\"Object{obj_index + 1}\"]\n",
    "\n",
    "    if command.lower() == \"grant\" or \"read\" or \"write\":\n",
    "        if \"Передача прав\" not in obj_rights:\n",
    "            print(\"Отказ в выполнении операции. У Вас нет прав для ее осуществления.\")\n",
    "            continue\n",
    "\n",
    "        user_to_grant = input(\"Какому пользователю передается право? \")\n",
    "        if user_to_grant not in U:\n",
    "            print(\"Неверный идентификатор пользователя.\")\n",
    "            continue\n",
    "\n",
    "        object_to_grant = input(\"Право на какой объект передается? \")\n",
    "        if object_to_grant not in O:\n",
    "            print(\"Неверный идентификатор объекта.\")\n",
    "            continue\n",
    "\n",
    "        right_to_grant = input(\"Какое право передается? \")\n",
    "        if right_to_grant not in S:\n",
    "            print(\"Неверный идентификатор права.\")\n",
    "            continue\n",
    "\n",
    "        if \"grant\" or \"full access\" not in user_rights[object_to_grant]:\n",
    "            print(\"Отказ в выполнении операции. У Вас нет прав для ее осуществления\")\n",
    "            continue\n",
    "\n",
    "        access_matrix.at[user_to_grant, object_to_grant] = [right_to_grant]\n",
    "        print(\"Операция прошла успешно\")\n",
    "\n",
    "    elif command == \"quit\":\n",
    "        print(f\"Работа пользователя {user_id} завершена. До свидания.\")\n",
    "        break\n",
    "\n",
    "    else:\n",
    "        print(\"Неверная команда. Повторите попытку.\")\n"
   ]
  },
  {
   "cell_type": "code",
   "execution_count": 36,
   "metadata": {},
   "outputs": [],
   "source": []
  },
  {
   "cell_type": "markdown",
   "metadata": {
    "collapsed": false
   },
   "source": [
    "Контрольные вопросы\n",
    "1. Что понимается под политикой безопасности в компьютерной\n",
    "системе?\n",
    "\n",
    "\n",
    "2. В чем заключается модель дискреционной политики безопасности в\n",
    "компьютерной системе?\n",
    "\n",
    "\n",
    "3. Что понимается под матрицей доступа в дискреционной политике\n",
    "безопасности? Что хранится в данной матрице?\n",
    "\n",
    "\n",
    "4. Какие действия производятся над матрицей доступа в том случае,\n",
    "когда один субъект передает другому субъекту свои права доступа к\n",
    "объекту компьютерной системы?\n",
    "\n"
   ]
  }
 ],
 "metadata": {
  "kernelspec": {
   "display_name": "Python 3.9.13 64-bit",
   "language": "python",
   "name": "python3"
  },
  "language_info": {
   "codemirror_mode": {
    "name": "ipython",
    "version": 3
   },
   "file_extension": ".py",
   "mimetype": "text/x-python",
   "name": "python",
   "nbconvert_exporter": "python",
   "pygments_lexer": "ipython3",
   "version": "3.9.13"
  },
  "vscode": {
   "interpreter": {
    "hash": "6a50f7240a2038d609e57a1f7523e7acd01e636c6ac4354e2d92058f3fb497af"
   }
  }
 },
 "nbformat": 4,
 "nbformat_minor": 0
}
