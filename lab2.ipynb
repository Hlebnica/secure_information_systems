{
 "cells": [
  {
   "cell_type": "markdown",
   "metadata": {
    "collapsed": false
   },
   "source": [
    "Старостенок Дмитрий Владимирович\n",
    "\n",
    "КЭ-303\n",
    "\n",
    "Вариант 29\n"
   ]
  },
  {
   "attachments": {},
   "cell_type": "markdown",
   "metadata": {
    "collapsed": false
   },
   "source": [
    "Количество субъектов доступа (пользователей) - 6\n",
    "Количество объектов доступа - 5"
   ]
  },
  {
   "cell_type": "code",
   "execution_count": 48,
   "metadata": {},
   "outputs": [],
   "source": [
    "import pandas as pd\n",
    "import numpy as np"
   ]
  },
  {
   "cell_type": "code",
   "execution_count": 49,
   "metadata": {
    "collapsed": true
   },
   "outputs": [],
   "source": [
    "S = [\"Доступ на чтение\", \"Доступ на запись\", \"Передача прав\"] # Набор операций над объектами\n",
    "U = [\"Пользователь 1\", \"Пользователь 2\", \"Пользователь 3\", \"Пользователь 4\", \"Пользователь 5\", \"Пользователь 6\"] # Множество субъектов\n",
    "O = [\"Объект 1\", \"Объект 2\", \"Объект 3\", \"Объект 4\", \"Объект 5\"] # Множество объектов доступа"
   ]
  },
  {
   "cell_type": "code",
   "execution_count": 50,
   "metadata": {
    "collapsed": false
   },
   "outputs": [],
   "source": [
    "def get_random_rights(access_rights):\n",
    "    rights = np.random.choice(access_rights, size=np.random.choice(len(access_rights) + 1), replace=False)\n",
    "\n",
    "    if len(rights) == 0 or len(rights) == 1 and \"Передача прав\" in rights:\n",
    "        rights = [\"Запрет\"]\n",
    "    elif len(rights) == len(access_rights):\n",
    "            rights = [\"Полные права\"]\n",
    "    return rights"
   ]
  },
  {
   "cell_type": "code",
   "execution_count": 56,
   "metadata": {
    "collapsed": false
   },
   "outputs": [
    {
     "data": {
      "text/html": [
       "<div>\n",
       "<style scoped>\n",
       "    .dataframe tbody tr th:only-of-type {\n",
       "        vertical-align: middle;\n",
       "    }\n",
       "\n",
       "    .dataframe tbody tr th {\n",
       "        vertical-align: top;\n",
       "    }\n",
       "\n",
       "    .dataframe thead th {\n",
       "        text-align: right;\n",
       "    }\n",
       "</style>\n",
       "<table border=\"1\" class=\"dataframe\">\n",
       "  <thead>\n",
       "    <tr style=\"text-align: right;\">\n",
       "      <th></th>\n",
       "      <th>Объект1</th>\n",
       "      <th>Объект2</th>\n",
       "      <th>Объект3</th>\n",
       "      <th>Объект4</th>\n",
       "      <th>Объект5</th>\n",
       "    </tr>\n",
       "  </thead>\n",
       "  <tbody>\n",
       "    <tr>\n",
       "      <th>Пользователь 1</th>\n",
       "      <td>[Доступ на запись, Передача прав]</td>\n",
       "      <td>[Полные права]</td>\n",
       "      <td>[Полные права]</td>\n",
       "      <td>[Запрет]</td>\n",
       "      <td>[Полные права]</td>\n",
       "    </tr>\n",
       "    <tr>\n",
       "      <th>Пользователь 2</th>\n",
       "      <td>[Доступ на запись, Доступ на чтение]</td>\n",
       "      <td>[Доступ на чтение]</td>\n",
       "      <td>[Полные права]</td>\n",
       "      <td>[Запрет]</td>\n",
       "      <td>[Доступ на чтение, Доступ на запись]</td>\n",
       "    </tr>\n",
       "    <tr>\n",
       "      <th>Пользователь 3</th>\n",
       "      <td>[Доступ на запись]</td>\n",
       "      <td>[Запрет]</td>\n",
       "      <td>[Передача прав, Доступ на запись]</td>\n",
       "      <td>[Доступ на запись, Передача прав]</td>\n",
       "      <td>[Запрет]</td>\n",
       "    </tr>\n",
       "    <tr>\n",
       "      <th>Пользователь 4</th>\n",
       "      <td>[Полные права]</td>\n",
       "      <td>[Запрет]</td>\n",
       "      <td>[Запрет]</td>\n",
       "      <td>[Полные права]</td>\n",
       "      <td>[Запрет]</td>\n",
       "    </tr>\n",
       "    <tr>\n",
       "      <th>Пользователь 5</th>\n",
       "      <td>Полные права</td>\n",
       "      <td>Полные права</td>\n",
       "      <td>Полные права</td>\n",
       "      <td>Полные права</td>\n",
       "      <td>Полные права</td>\n",
       "    </tr>\n",
       "    <tr>\n",
       "      <th>Пользователь 6</th>\n",
       "      <td>[Запрет]</td>\n",
       "      <td>[Запрет]</td>\n",
       "      <td>[Запрет]</td>\n",
       "      <td>[Полные права]</td>\n",
       "      <td>[Полные права]</td>\n",
       "    </tr>\n",
       "  </tbody>\n",
       "</table>\n",
       "</div>"
      ],
      "text/plain": [
       "                                             Объект1             Объект2  \\\n",
       "Пользователь 1     [Доступ на запись, Передача прав]      [Полные права]   \n",
       "Пользователь 2  [Доступ на запись, Доступ на чтение]  [Доступ на чтение]   \n",
       "Пользователь 3                    [Доступ на запись]            [Запрет]   \n",
       "Пользователь 4                        [Полные права]            [Запрет]   \n",
       "Пользователь 5                          Полные права        Полные права   \n",
       "Пользователь 6                              [Запрет]            [Запрет]   \n",
       "\n",
       "                                          Объект3  \\\n",
       "Пользователь 1                     [Полные права]   \n",
       "Пользователь 2                     [Полные права]   \n",
       "Пользователь 3  [Передача прав, Доступ на запись]   \n",
       "Пользователь 4                           [Запрет]   \n",
       "Пользователь 5                       Полные права   \n",
       "Пользователь 6                           [Запрет]   \n",
       "\n",
       "                                          Объект4  \\\n",
       "Пользователь 1                           [Запрет]   \n",
       "Пользователь 2                           [Запрет]   \n",
       "Пользователь 3  [Доступ на запись, Передача прав]   \n",
       "Пользователь 4                     [Полные права]   \n",
       "Пользователь 5                       Полные права   \n",
       "Пользователь 6                     [Полные права]   \n",
       "\n",
       "                                             Объект5  \n",
       "Пользователь 1                        [Полные права]  \n",
       "Пользователь 2  [Доступ на чтение, Доступ на запись]  \n",
       "Пользователь 3                              [Запрет]  \n",
       "Пользователь 4                              [Запрет]  \n",
       "Пользователь 5                          Полные права  \n",
       "Пользователь 6                        [Полные права]  "
      ]
     },
     "execution_count": 56,
     "metadata": {},
     "output_type": "execute_result"
    }
   ],
   "source": [
    "access_matrix = pd.DataFrame(columns=[f\"Объект{n+1}\" for n in range(len(O))], index=U[:len(U)])\n",
    "access_matrix = access_matrix.applymap(lambda x: get_random_rights(S))\n",
    "\n",
    "access_matrix.iloc[[np.random.randint(len(access_matrix.index))]] = [[['Полные права']]]\n",
    "access_matrix"
   ]
  },
  {
   "cell_type": "code",
   "execution_count": 55,
   "metadata": {
    "collapsed": false
   },
   "outputs": [
    {
     "name": "stdout",
     "output_type": "stream",
     "text": [
      "Идентификация прошла успешно, добро пожаловать в систему, Пользователь 4!\n",
      "Перечень Ваших прав:\n",
      "Объект1: Доступ на чтение\n",
      "Объект2: Полные права\n",
      "Объект3: Доступ на запись\n",
      "Объект4: Доступ на чтение\n",
      "Объект5: Полные права\n"
     ]
    }
   ],
   "source": [
    "while True:\n",
    "    user_id = input(\"Введите идентификатор пользователя: \")\n",
    "\n",
    "    if user_id not in U:\n",
    "        print(\"Неверный идентификатор пользователя.\")\n",
    "        continue\n",
    "    else:\n",
    "        user_rights = access_matrix.loc[user_id] \n",
    "        print(f\"Идентификация прошла успешно, добро пожаловать в систему, {user_id}!\")\n",
    "        print(\"Перечень Ваших прав:\")\n",
    "\n",
    "        for obj, rights in user_rights.items():\n",
    "            print(f\"{obj}: {', '.join(rights)}\")\n",
    "        break\n",
    "        "
   ]
  },
  {
   "cell_type": "code",
   "execution_count": 53,
   "metadata": {},
   "outputs": [
    {
     "name": "stdout",
     "output_type": "stream",
     "text": [
      "Неверная команда.\n",
      "Неверная команда.\n",
      "Неверная команда.\n",
      "Неверная команда.\n",
      "Неверная команда.\n",
      "Неверная команда.\n",
      "Неверная команда.\n",
      "Неверная команда.\n",
      "Неверная команда.\n",
      "Неверная команда.\n",
      "Неверная команда.\n",
      "Неверная команда.\n",
      "Неверная команда.\n",
      "Работа пользователя Пользователь 1 завершена. До свидания.\n"
     ]
    }
   ],
   "source": [
    "while True:\n",
    "    command = input(\"Жду ваших указаний > \")\n",
    "\n",
    "    if command.lower() == \"quit\":\n",
    "        print(f\"Работа пользователя {user_id} завершена. До свидания.\")\n",
    "        break\n",
    "\n",
    "    if command.lower() not in S:\n",
    "        print(\"Неверная команда.\")\n",
    "        continue\n",
    "\n",
    "    obj_number = input(\"Над каким объектом производится операция? \")\n",
    "    if obj_number not in O:\n",
    "        print(\"Неверный номер объекта.\")\n",
    "        continue\n",
    "\n",
    "    obj_index = O.index(obj_number)\n",
    "    user_rights = access_matrix.loc[user_id]\n",
    "    obj_rights = user_rights[f\"Объект{obj_index+1}\"]\n",
    "\n",
    "    if command.lower() == \"grant\":\n",
    "        if \"Передача прав\" not in obj_rights:\n",
    "            print(\"Отказ в выполнении операции. У Вас нет прав для ее осуществления.\")\n",
    "            continue\n",
    "\n",
    "        obj_to_grant = input(\"Право на какой объект передается? \")\n",
    "        if obj_to_grant not in O:\n",
    "            print(\"Неверный номер объекта.\")\n",
    "            continue\n",
    "\n",
    "        user_to_grant = input(\"Какому пользователю передается право? \")\n",
    "        if user_to_grant not in U:\n",
    "            print(\"Неверный идентификатор пользователя.\")\n",
    "            continue\n",
    "\n",
    "        object_to_grant = input(\"Право на какой объект передается? \")\n",
    "        if object_to_grant not in O:\n",
    "            print(\"Неверный идентификатор объекта.\")\n",
    "            continue\n",
    "\n",
    "        right_to_grant = input(\"Какое право передается? \")\n",
    "        if right_to_grant not in S:\n",
    "            print(\"Неверный идентификатор права.\")\n",
    "            continue\n",
    "\n",
    "        if \"Передача прав\" not in user_rights[object_to_grant]:\n",
    "            print(\"Отказ в выполнении операции. У Вас нет прав для ее осуществления\")\n",
    "            continue\n",
    "\n",
    "        user_rights_to_grant = access_matrix.loc[user_to_grant]\n",
    "        if \"Передача прав\" not in user_rights_to_grant[object_to_grant]:\n",
    "            print(\"Отказ в выполнении операции. У пользователя, которому Вы хотите передать право, нет прав на передачу прав.\")\n",
    "            continue\n",
    "\n",
    "        access_matrix.at[user_to_grant, object_to_grant] = [right_to_grant]\n",
    "        print(\"Операция прошла успешно\")\n",
    "\n",
    "    elif command == \"quit\":\n",
    "        print(f\"Работа пользователя {user_id} завершена. До свидания.\")\n",
    "        break\n",
    "        \n",
    "    else:\n",
    "        print(\"Неверная команда. Повторите попытку.\")\n"
   ]
  },
  {
   "cell_type": "code",
   "execution_count": null,
   "metadata": {},
   "outputs": [],
   "source": []
  },
  {
   "cell_type": "markdown",
   "metadata": {
    "collapsed": false
   },
   "source": [
    "Контрольные вопросы\n",
    "1. Что понимается под политикой безопасности в компьютерной\n",
    "системе?\n",
    "\n",
    "\n",
    "2. В чем заключается модель дискреционной политики безопасности в\n",
    "компьютерной системе?\n",
    "\n",
    "\n",
    "3. Что понимается под матрицей доступа в дискреционной политике\n",
    "безопасности? Что хранится в данной матрице?\n",
    "\n",
    "\n",
    "4. Какие действия производятся над матрицей доступа в том случае,\n",
    "когда один субъект передает другому субъекту свои права доступа к\n",
    "объекту компьютерной системы?\n",
    "\n"
   ]
  }
 ],
 "metadata": {
  "kernelspec": {
   "display_name": "Python 3.9.13 64-bit",
   "language": "python",
   "name": "python3"
  },
  "language_info": {
   "codemirror_mode": {
    "name": "ipython",
    "version": 3
   },
   "file_extension": ".py",
   "mimetype": "text/x-python",
   "name": "python",
   "nbconvert_exporter": "python",
   "pygments_lexer": "ipython3",
   "version": "3.9.13"
  },
  "vscode": {
   "interpreter": {
    "hash": "6a50f7240a2038d609e57a1f7523e7acd01e636c6ac4354e2d92058f3fb497af"
   }
  }
 },
 "nbformat": 4,
 "nbformat_minor": 0
}
